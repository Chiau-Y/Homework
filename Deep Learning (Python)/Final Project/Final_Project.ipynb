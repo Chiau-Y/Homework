{
 "cells": [
  {
   "cell_type": "code",
   "execution_count": 1,
   "metadata": {},
   "outputs": [],
   "source": [
    "import pandas as pd\n",
    "\n",
    "# read the data from 80*80 pixel\n",
    "data = pd.read_table('./all_geo.txt',header=None,sep=' ',index_col=False) # last column is NaN\n",
    "data = data.iloc[:,0:data.shape[1]-1] # take the last col. away\n",
    "\n",
    "# read the thoughness\n",
    "label = pd.read_table('./toughness.txt',header=None,sep=' ',index_col=False) \n",
    "label.rename(columns={0:\"Toughness\"},inplace=True) # change the col. name from 0 to \"Toughness\"\n",
    "\n",
    "# combine the label if it needs to be shuffled, but not be used now\n",
    "# data_combine = pd.concat([data,label],axis=1) # combine the data and label"
   ]
  },
  {
   "cell_type": "code",
   "execution_count": 2,
   "metadata": {},
   "outputs": [],
   "source": [
    "import numpy as np\n",
    "\n",
    "# reshape the data into 80*80 for CNN input\n",
    "data_reshape = np.array(data).reshape((10000, 80, 80, 1)) "
   ]
  },
  {
   "cell_type": "code",
   "execution_count": 3,
   "metadata": {},
   "outputs": [],
   "source": [
    "from sklearn.model_selection import train_test_split\n",
    "\n",
    "# 20% for validation\n",
    "X_train, X_val, y_train, y_val = train_test_split(data_reshape, label, test_size=0.2, random_state=42)"
   ]
  },
  {
   "cell_type": "code",
   "execution_count": 4,
   "metadata": {},
   "outputs": [],
   "source": [
    "import tensorflow as tf\n",
    "from tensorflow.keras import datasets, layers, models\n",
    "\n",
    "# setting the hyper-parameters\n",
    "learning_rate_set = 0.001\n",
    "batch_size_set = 10\n",
    "epochs_set = 10\n",
    " \n",
    "# learning rate decay to decrease the loss\n",
    "def learning_rate_scheduler(epoch, lr): \n",
    "    if (epoch+1) > 5:\n",
    "        lr = 0.8*lr\n",
    "    return lr    \n",
    "        \n",
    "# LeNet-5, originally input (32,32,1) and output 10 (softmax)\n",
    "model= models.Sequential()\n",
    "model.add(layers.Conv2D(filters=6,kernel_size=(5,5),input_shape=(80,80,1),activation='relu'))\n",
    "model.add(layers.MaxPool2D(pool_size=(2, 2)))\n",
    "model.add(layers.Conv2D(filters=16, kernel_size=(5,5),activation='relu'))\n",
    "model.add(layers.MaxPool2D(pool_size=(2, 2)))\n",
    "model.add(layers.Flatten())\n",
    "model.add(layers.Dense(120,activation='relu'))\n",
    "model.add(layers.Dense(84,activation='relu'))\n",
    "\n",
    "# for regression, change the final step from softmax to linear\n",
    "model.add(layers.Dense(1, activation='linear')) # only 1 output(float), y = a(wx + b), a = 1\n",
    "\n",
    "model.compile(optimizer = tf.keras.optimizers.Adam(learning_rate = learning_rate_set),\n",
    "              loss = 'mean_squared_error', metrics = ['mse'])"
   ]
  },
  {
   "cell_type": "code",
   "execution_count": 5,
   "metadata": {},
   "outputs": [
    {
     "name": "stdout",
     "output_type": "stream",
     "text": [
      "\n",
      "Epoch 00001: LearningRateScheduler reducing learning rate to 0.0010000000474974513.\n",
      "Epoch 1/10\n",
      "800/800 [==============================] - 2s 3ms/step - loss: 1.0360 - mse: 1.0360 - val_loss: 0.3840 - val_mse: 0.3840\n",
      "\n",
      "Epoch 00002: LearningRateScheduler reducing learning rate to 0.0010000000474974513.\n",
      "Epoch 2/10\n",
      "800/800 [==============================] - 2s 3ms/step - loss: 0.2826 - mse: 0.2826 - val_loss: 0.1929 - val_mse: 0.1929\n",
      "\n",
      "Epoch 00003: LearningRateScheduler reducing learning rate to 0.0010000000474974513.\n",
      "Epoch 3/10\n",
      "800/800 [==============================] - 2s 3ms/step - loss: 0.1577 - mse: 0.1577 - val_loss: 0.1361 - val_mse: 0.1361\n",
      "\n",
      "Epoch 00004: LearningRateScheduler reducing learning rate to 0.0010000000474974513.\n",
      "Epoch 4/10\n",
      "800/800 [==============================] - 2s 3ms/step - loss: 0.1151 - mse: 0.1151 - val_loss: 0.1241 - val_mse: 0.1241\n",
      "\n",
      "Epoch 00005: LearningRateScheduler reducing learning rate to 0.0010000000474974513.\n",
      "Epoch 5/10\n",
      "800/800 [==============================] - 2s 3ms/step - loss: 0.1246 - mse: 0.1246 - val_loss: 0.0909 - val_mse: 0.0909\n",
      "\n",
      "Epoch 00006: LearningRateScheduler reducing learning rate to 0.000800000037997961.\n",
      "Epoch 6/10\n",
      "800/800 [==============================] - 2s 3ms/step - loss: 0.0637 - mse: 0.0637 - val_loss: 0.1268 - val_mse: 0.1268\n",
      "\n",
      "Epoch 00007: LearningRateScheduler reducing learning rate to 0.0006400000303983689.\n",
      "Epoch 7/10\n",
      "800/800 [==============================] - 2s 3ms/step - loss: 0.0554 - mse: 0.0554 - val_loss: 0.1506 - val_mse: 0.1506\n",
      "\n",
      "Epoch 00008: LearningRateScheduler reducing learning rate to 0.0005120000336319208.\n",
      "Epoch 8/10\n",
      "800/800 [==============================] - 2s 3ms/step - loss: 0.0417 - mse: 0.0417 - val_loss: 0.0545 - val_mse: 0.0545\n",
      "\n",
      "Epoch 00009: LearningRateScheduler reducing learning rate to 0.00040960004553198815.\n",
      "Epoch 9/10\n",
      "800/800 [==============================] - 2s 3ms/step - loss: 0.0312 - mse: 0.0312 - val_loss: 0.0492 - val_mse: 0.0492\n",
      "\n",
      "Epoch 00010: LearningRateScheduler reducing learning rate to 0.00032768002711236477.\n",
      "Epoch 10/10\n",
      "800/800 [==============================] - 2s 3ms/step - loss: 0.0259 - mse: 0.0259 - val_loss: 0.0463 - val_mse: 0.0463\n"
     ]
    }
   ],
   "source": [
    "# start to train\n",
    "history = model.fit(x = X_train, y = y_train, validation_data = \n",
    "                    (X_val, y_val),epochs = epochs_set, batch_size = batch_size_set,\n",
    "                   callbacks=[tf.keras.callbacks.LearningRateScheduler(learning_rate_scheduler, verbose=1)])\n",
    "# save the model\n",
    "# model.save(\"final_project.h5\") "
   ]
  },
  {
   "cell_type": "code",
   "execution_count": 6,
   "metadata": {},
   "outputs": [
    {
     "data": {
      "image/png": "[encoded data removed]",
      "text/plain": [
       "<Figure size 432x288 with 1 Axes>"
      ]
     },
     "metadata": {
      "needs_background": "light"
     },
     "output_type": "display_data"
    }
   ],
   "source": [
    "import matplotlib.pyplot as plt\n",
    "\n",
    "# plot the result\n",
    "plt.figure(0)\n",
    "plt.title(\"Mean Squared Error (Loss)\")\n",
    "plt.plot(history.history['mse'],label='Train')\n",
    "plt.plot(history.history['val_mse'],'r', label='Validation')\n",
    "plt.legend(loc=\"upper right\",fontsize='large')\n",
    "plt.xlabel('epoch')\n",
    "plt.ylabel('MSE')\n",
    "plt.show()"
   ]
  },
  {
   "cell_type": "code",
   "execution_count": 7,
   "metadata": {},
   "outputs": [],
   "source": [
    "# predict from the same 10000 data\n",
    "toughness_pred = model.predict(data_reshape)\n",
    "\n",
    "y_pred_pd = pd.DataFrame(data=toughness_pred, columns=['ML']) # array to dataframe\n",
    "\n",
    "# combine the data, toughness, and predicted toughness, and save the file\n",
    "data_combine = pd.concat([data,label,y_pred_pd],axis=1) \n",
    "data_combine = data_combine.reset_index()\n",
    "data_combine.to_csv('group_5.csv',index=False) # use it when save the file"
   ]
  },
  {
   "cell_type": "code",
   "execution_count": 8,
   "metadata": {},
   "outputs": [
    {
     "name": "stdout",
     "output_type": "stream",
     "text": [
      "MSE :  0.027893576698777053\n"
     ]
    }
   ],
   "source": [
    "from sklearn.metrics import mean_squared_error\n",
    "\n",
    "# calculate the MSE from predicted value\n",
    "print('MSE : ',mean_squared_error(label,y_pred_pd)) # calculate MSE"
   ]
  },
  {
   "cell_type": "code",
   "execution_count": null,
   "metadata": {},
   "outputs": [],
   "source": []
  }
 ],
 "metadata": {
  "kernelspec": {
   "display_name": "Python 3",
   "language": "python",
   "name": "python3"
  },
  "language_info": {
   "codemirror_mode": {
    "name": "ipython",
    "version": 3
   },
   "file_extension": ".py",
   "mimetype": "text/x-python",
   "name": "python",
   "nbconvert_exporter": "python",
   "pygments_lexer": "ipython3",
   "version": "3.7.7"
  }
 },
 "nbformat": 4,
 "nbformat_minor": 4
}
